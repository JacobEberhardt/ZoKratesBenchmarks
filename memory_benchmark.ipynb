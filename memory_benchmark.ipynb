{
 "cells": [
  {
   "cell_type": "markdown",
   "metadata": {},
   "source": [
    "### Imports\n"
   ]
  },
  {
   "cell_type": "code",
   "execution_count": 20,
   "metadata": {},
   "outputs": [],
   "source": [
    "%%capture\n",
    "import os\n",
    "import sys\n",
    "!{sys.executable} -m pip install csv2md"
   ]
  },
  {
   "cell_type": "markdown",
   "metadata": {},
   "source": [
    "### Benchmarking optimized/unoptimized with memory usage\n",
    "drop valid .zok files in files dir and run notebook. Results will be saved in exports/data/result.csv"
   ]
  },
  {
   "cell_type": "code",
   "execution_count": 26,
   "metadata": {
    "scrolled": true
   },
   "outputs": [],
   "source": [
    "%%capture\n",
    "compile_optimized = []\n",
    "constraints_optimized = []\n",
    "compile_unoptimized = []\n",
    "constraints_unoptimized = []\n",
    "\n",
    "mem_usg = []\n",
    "\n",
    "%alias_magic benchmark timeit -p \"-n 1 -r 1 -o\"\n",
    "\n",
    "# empties files from previous results\n",
    "def reset_files():\n",
    "    results = open(\"exports/data/result.csv\", \"w\")\n",
    "    results.write(\"compile_opt_μs, constr_opt, memusg_opt_kb, compile_unopt_μs, constr_unopt, memusg_unopt_kb\\n\")\n",
    "    open(\"exports/data/memusg_res.txt\", 'w').close()\n",
    "    \n",
    "# compiles with locally installed zokrates with optimizer active\n",
    "def compile_opti(file):\n",
    "    cmd = f\"./memusg.sh zokrates compile -i files/{file}\"\n",
    "    value = %benchmark !{cmd}\n",
    "    return int(value.best * 1000000)\n",
    "\n",
    "# compiles without optimizer\n",
    "def compile_unopti(file):\n",
    "    cmd = f\"./memusg.sh ./zokrates_unoptimized compile -i files/{file}\"\n",
    "    value = %benchmark !{cmd}\n",
    "    return int(value.best * 1000000)\n",
    "    \n",
    "def get_memusg():\n",
    "    with open('exports/data/memusg_res.txt') as f:\n",
    "        return [line.rstrip() for line in f]\n",
    "    \n",
    "# counts constraints by looking into out.code\n",
    "def count_constraints():\n",
    "    f = open(\"./out.ztf\",'r')\n",
    "    return len(list(filter(lambda x: \"==\" in x, f.readlines())))\n",
    "    \n",
    "def export_data():\n",
    "    file = open(\"exports/data/result.csv\", \"a\")\n",
    "    for i, val in enumerate(compile_optimized): \n",
    "        file.write(\n",
    "            str(val) + \", \" + \n",
    "            str(constraints_optimized[i]) + \", \" + \n",
    "            str(mem_usg[i * 2]) + \", \" + \n",
    "            str(compile_unoptimized[i]) + \", \" + \n",
    "            str(constraints_unoptimized[i]) + \", \" + \n",
    "            str(mem_usg[(i * 2) + 1]) + \"\\n\"\n",
    "        )\n",
    "    file.close()\n",
    "\n",
    "reset_files()\n",
    "for file in os.listdir('./files'):\n",
    "    compile_optimized.append(compile_opti(file))\n",
    "    constraints_optimized.append(count_constraints())\n",
    "    compile_unoptimized.append(compile_unopti(file))\n",
    "    constraints_unoptimized.append(count_constraints())\n",
    "\n",
    "\n",
    "mem_usg = get_memusg()\n",
    "export_data()"
   ]
  },
  {
   "cell_type": "code",
   "execution_count": 27,
   "metadata": {},
   "outputs": [
    {
     "name": "stdout",
     "output_type": "stream",
     "text": [
      "| compile_opt_μs |  constr_opt |  memusg_opt_kb |  compile_unopt_μs |  constr_unopt |  memusg_unopt_kb |\n",
      "| -------------- | ----------- | -------------- | ----------------- | ------------- | ---------------- |\n",
      "| 20281488       |  232537     |  396664        |  16558760         |  257213       |  426184          |\n",
      "| 5084822        |  56984      |  140728        |  3890349          |  63136        |  138492          |\n",
      "\n"
     ]
    }
   ],
   "source": [
    "!csv2md exports/data/result.csv > exports/data/table.md\n",
    "\n",
    "with open(\"exports/data/table.md\") as f:\n",
    "    print(f.read())"
   ]
  },
  {
   "cell_type": "code",
   "execution_count": null,
   "metadata": {},
   "outputs": [],
   "source": []
  },
  {
   "cell_type": "code",
   "execution_count": null,
   "metadata": {},
   "outputs": [],
   "source": []
  }
 ],
 "metadata": {
  "kernelspec": {
   "display_name": "Python 3",
   "language": "python",
   "name": "python3"
  },
  "language_info": {
   "codemirror_mode": {
    "name": "ipython",
    "version": 3
   },
   "file_extension": ".py",
   "mimetype": "text/x-python",
   "name": "python",
   "nbconvert_exporter": "python",
   "pygments_lexer": "ipython3",
   "version": "3.7.3"
  }
 },
 "nbformat": 4,
 "nbformat_minor": 2
}
