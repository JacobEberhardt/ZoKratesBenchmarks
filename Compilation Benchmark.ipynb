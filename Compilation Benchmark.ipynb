{
 "cells": [
  {
   "cell_type": "markdown",
   "metadata": {},
   "source": [
    "### Compilation/Generation Benchmark:\n",
    "\n",
    "#### Requirements for running:\n",
    "- ZoKrates installed (via install script)\n",
    "\n",
    "\n",
    "#### Select files:\n",
    "- Drop all files that are supposed to be benchmarked in the files/ directory in this project\n",
    "\n",
    "#### Python Imports:"
   ]
  },
  {
   "cell_type": "code",
   "execution_count": 12,
   "metadata": {},
   "outputs": [],
   "source": [
    "%%capture\n",
    "import sys\n",
    "!{sys.executable} -m pip install matplotlib\n",
    "!{sys.executable} -m pip install numpy\n",
    "import os\n",
    "import math\n",
    "import matplotlib.pyplot as plt\n",
    "import numpy as np"
   ]
  },
  {
   "cell_type": "markdown",
   "metadata": {},
   "source": [
    "#### Iterate Files:\n",
    "\n",
    "##### Benchmark Settings:\n",
    "- Each programm will be run N * R times\n",
    "    - N: Number of executions in one loop\n",
    "    - R: Number of loop executions"
   ]
  },
  {
   "cell_type": "code",
   "execution_count": 13,
   "metadata": {
    "scrolled": false
   },
   "outputs": [],
   "source": [
    "%%capture\n",
    "compile_time = []\n",
    "setup_time = []\n",
    "witness_time = []\n",
    "proof_time = []\n",
    "constraints = []\n",
    "# Set N and R here\n",
    "%alias_magic benchmark timeit -p \"-n 1 -r 1 -o\"\n",
    "\n",
    "def compile_file(file):\n",
    "    value = %benchmark !zokrates compile -i files/{file}\n",
    "    return int(value.best * 1000000)\n",
    "    \n",
    "# counts constraints by looking into out.code\n",
    "def count_constraints():\n",
    "    f = open(\"./out.code\",'r')\n",
    "    constraints.append(len(list(filter(lambda x: \"==\" in x, f.readlines()))))\n",
    "    \n",
    "def setup():\n",
    "    value = %benchmark !zokrates setup --light\n",
    "    return int(value.best * 1000000)\n",
    "\n",
    "'''\n",
    "this method gets the first line of given .code file and extracts function parameters.\n",
    "Expected format: \n",
    "    -commented out in first line of file with a space after '//'\n",
    "\n",
    "E.g.\n",
    "\n",
    "// 337 113569\n",
    "def main(private field a, field b) -> (field):\n",
    "  field result = if a * a == b then 1 else 0 fi\n",
    "  return result\n",
    "'''\n",
    "def get_parameters(file):\n",
    "    with open('files/' + file) as f:\n",
    "        line = f.readline()\n",
    "        if \"//\" in line:\n",
    "            return \"-a\" + line.replace(\"//\", \"\")\n",
    "        else:\n",
    "            return \"\"\n",
    "        \n",
    "def compute_witness(file):\n",
    "    params = get_parameters(file)\n",
    "    value = %benchmark !zokrates compute-witness {params} --light\n",
    "    return int(value.best * 1000000)\n",
    "\n",
    "def generate_proof():\n",
    "    value = %benchmark !zokrates generate-proof --light\n",
    "    return int(value.best * 1000000)\n",
    "\n",
    "#Sorts all lists based on constraint count\n",
    "def sort_res():\n",
    "    return zip(*sorted(zip(constraints, compile_time, setup_time, witness_time, proof_time)))\n",
    "    \n",
    "for file in os.listdir('./files'):\n",
    "    compile_time.append(compile_file(file))\n",
    "    setup_time.append(setup())\n",
    "    witness_time.append(compute_witness(file))\n",
    "    proof_time.append(generate_proof())\n",
    "    count_constraints()\n",
    "    \n",
    "constraints, compile_time, setup_time, witness_time, proof_time = sort_res()"
   ]
  },
  {
   "cell_type": "code",
   "execution_count": 14,
   "metadata": {},
   "outputs": [
    {
     "name": "stdout",
     "output_type": "stream",
     "text": [
      "(125861, 311491, 2462994, 26388387)\n",
      "(140925, 670873, 6290962, 61627031)\n",
      "(125221, 158917, 762551, 5307926)\n",
      "(132989, 123617, 125664, 122581)\n",
      "(5, 2962, 29962, 299962)\n"
     ]
    }
   ],
   "source": [
    "print(compile_time)\n",
    "print(setup_time)\n",
    "print(witness_time)\n",
    "print(proof_time)\n",
    "print(constraints)"
   ]
  },
  {
   "cell_type": "markdown",
   "metadata": {},
   "source": [
    "#### Compilation and Setup Diagram:\n"
   ]
  },
  {
   "cell_type": "code",
   "execution_count": 15,
   "metadata": {},
   "outputs": [
    {
     "data": {
      "image/png": "[encoded data removed]",
      "text/plain": [
       "<Figure size 432x288 with 1 Axes>"
      ]
     },
     "metadata": {
      "needs_background": "light"
     },
     "output_type": "display_data"
    }
   ],
   "source": [
    "x = np.arange(len(constraints))  # the label locations\n",
    "width = 0.15  # the width of the bars\n",
    "\n",
    "fig, ax = plt.subplots()\n",
    "rects1 = ax.bar(x - width/2, compile_time, width, label='Compile', edgecolor='#005eb8', color='#7faedb')\n",
    "rects2 = ax.bar(x + width/2, setup_time, width, label='Setup', edgecolor='#ff4c4c', color='#ffa5a5')\n",
    "ax.set_ylabel('t in μs')\n",
    "ax.set_xticks(x)\n",
    "ax.set_xlabel('# of Constraints')\n",
    "ax.set_xticklabels(constraints)\n",
    "ax.legend()\n",
    "ax.semilogy(np.exp(0 / max(setup_time)))\n",
    "ax.set_ylim(ymin=1000)\n",
    "fig.tight_layout()\n",
    "\n",
    "plt.show()"
   ]
  },
  {
   "cell_type": "markdown",
   "metadata": {},
   "source": [
    "#### Witness and Proof Diagram:"
   ]
  },
  {
   "cell_type": "code",
   "execution_count": 16,
   "metadata": {},
   "outputs": [
    {
     "data": {
      "image/png": "[encoded data removed]",
      "text/plain": [
       "<Figure size 432x288 with 1 Axes>"
      ]
     },
     "metadata": {
      "needs_background": "light"
     },
     "output_type": "display_data"
    }
   ],
   "source": [
    "x = np.arange(len(constraints))  # the label locations\n",
    "width = 0.15  # the width of the bars\n",
    "\n",
    "fig, ax = plt.subplots()\n",
    "rects1 = ax.bar(x - width/2, witness_time, width, label='Witness', edgecolor='#005eb8', color='#7faedb')\n",
    "rects2 = ax.bar(x + width/2, proof_time, width, label='Proof', edgecolor='#ff4c4c', color='#ffa5a5')\n",
    "ax.set_ylabel('t in μs')\n",
    "ax.set_xticks(x)\n",
    "ax.set_xlabel('# of Constraints')\n",
    "ax.set_xticklabels(constraints)\n",
    "ax.legend()\n",
    "ax.semilogy(np.exp(0 / max(setup_time)))\n",
    "ax.set_ylim(ymin=1000)\n",
    "fig.tight_layout()\n",
    "\n",
    "plt.show()"
   ]
  },
  {
   "cell_type": "code",
   "execution_count": null,
   "metadata": {},
   "outputs": [],
   "source": []
  },
  {
   "cell_type": "code",
   "execution_count": null,
   "metadata": {},
   "outputs": [],
   "source": []
  }
 ],
 "metadata": {
  "kernelspec": {
   "display_name": "Python 3",
   "language": "python",
   "name": "python3"
  },
  "language_info": {
   "codemirror_mode": {
    "name": "ipython",
    "version": 3
   },
   "file_extension": ".py",
   "mimetype": "text/x-python",
   "name": "python",
   "nbconvert_exporter": "python",
   "pygments_lexer": "ipython3",
   "version": "3.7.3"
  }
 },
 "nbformat": 4,
 "nbformat_minor": 2
}
