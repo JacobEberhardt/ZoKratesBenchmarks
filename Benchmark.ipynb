{
 "cells": [
  {
   "cell_type": "markdown",
   "metadata": {},
   "source": [
    "### ZoKrates Benchmarking\n",
    "\n",
    "#### Functionality:\n",
    "This notebook benchmarks the gas costs for different .code functions. By setting __max_inputs__ programms with __[1 - max_inputs]__ will be generated.\n",
    "\n",
    "E.g.\n",
    "__max_inputs = 3__ will generate the following programms, deploy and execute them, and plot the gas usage for each programm\n",
    "\n",
    "```\n",
    "def main(field a):\n",
    "\t return a\n",
    "\n",
    "def main(field a, field b):\n",
    "\t return a, b\n",
    "\n",
    "def main(field a, field b, field c):\n",
    "\t return a, b, c\n",
    "```\n",
    "\n",
    "#### Requirements for running:\n",
    "- Geth or similar blockchain client running\n",
    "- ZoKrates is installed locally (via install script)\n",
    "- solc is installed globally (npm i -g solc)\n",
    "\n",
    "#### Running Geth with Istanbul HF:\n",
    "- Install Geth\n",
    "- Run:\n",
    "    ```\n",
    "    geth --datadir chain init genesis.json\n",
    "    ```\n",
    "- Run: \n",
    "    ``` \n",
    "    geth --port 3000 --networkid 58342 --nodiscover --datadir=\"chain\" --maxpeers=0 --rpc --rpcport 8545 --rpcaddr 127.0.0.1 --rpccorsdomain \"*\" --rpcapi \"eth,net,web3\" --nodiscover --allow-insecure-unlock --unlock 0xD51E15b8580D7D1dcBD8FcfD8B712E45807BC305 --password pass --etherbase 0xD51E15b8580D7D1dcBD8FcfD8B712E45807BC305 --mine --minerthreads=1\n",
    "    ```\n",
    "\n",
    "#### Generating new Ethereum Account (Optional):\n",
    "   - Run:\n",
    "   \n",
    "    ```\n",
    "    geth --datadir chain init genesis.json\n",
    "    ```\n",
    "   - Replace the alloc address in genesis.json (without 0x prefix) \n",
    "   - Run:\n",
    "\n",
    "    ```\n",
    "    geth --datadir chain init genesis.json\n",
    "    ```\n",
    "   - Replace addresses in 'Running geth command with new address'\n",
    "\n",
    "\n",
    "### Installing Dependencies:\n"
   ]
  },
  {
   "cell_type": "code",
   "execution_count": 5,
   "metadata": {
    "scrolled": true
   },
   "outputs": [
    {
     "name": "stdout",
     "output_type": "stream",
     "text": [
      "Requirement already satisfied: web3 in /Users/paul/anaconda3/lib/python3.7/site-packages (5.0.2)\n",
      "Requirement already satisfied: requests<3.0.0,>=2.16.0 in /Users/paul/anaconda3/lib/python3.7/site-packages (from web3) (2.22.0)\n",
      "Requirement already satisfied: lru-dict<2.0.0,>=1.1.6 in /Users/paul/anaconda3/lib/python3.7/site-packages (from web3) (1.1.6)\n",
      "Requirement already satisfied: protobuf<4,>=3.0.0 in /Users/paul/anaconda3/lib/python3.7/site-packages (from web3) (3.9.1)\n",
      "Requirement already satisfied: websockets<8.0.0,>=7.0.0 in /Users/paul/anaconda3/lib/python3.7/site-packages (from web3) (7.0)\n",
      "Requirement already satisfied: jsonschema<3,>=2.6.0 in /Users/paul/anaconda3/lib/python3.7/site-packages (from web3) (2.6.0)\n",
      "Requirement already satisfied: eth-typing<3.0.0,>=2.0.0 in /Users/paul/anaconda3/lib/python3.7/site-packages (from web3) (2.1.0)\n",
      "Requirement already satisfied: ipfshttpclient<1,>=0.4.12 in /Users/paul/anaconda3/lib/python3.7/site-packages (from web3) (0.4.12)\n",
      "Requirement already satisfied: eth-abi<3.0.0,>=2.0.0b6 in /Users/paul/anaconda3/lib/python3.7/site-packages (from web3) (2.0.0)\n",
      "Requirement already satisfied: eth-utils<2.0.0,>=1.4.0 in /Users/paul/anaconda3/lib/python3.7/site-packages (from web3) (1.7.0)\n",
      "Requirement already satisfied: hexbytes<1.0.0,>=0.1.0 in /Users/paul/anaconda3/lib/python3.7/site-packages (from web3) (0.2.0)\n",
      "Requirement already satisfied: eth-hash[pycryptodome]<1.0.0,>=0.2.0 in /Users/paul/anaconda3/lib/python3.7/site-packages (from web3) (0.2.0)\n",
      "Requirement already satisfied: eth-account<0.5.0,>=0.4.0 in /Users/paul/anaconda3/lib/python3.7/site-packages (from web3) (0.4.0)\n",
      "Requirement already satisfied: idna<2.9,>=2.5 in /Users/paul/anaconda3/lib/python3.7/site-packages (from requests<3.0.0,>=2.16.0->web3) (2.8)\n",
      "Requirement already satisfied: urllib3!=1.25.0,!=1.25.1,<1.26,>=1.21.1 in /Users/paul/anaconda3/lib/python3.7/site-packages (from requests<3.0.0,>=2.16.0->web3) (1.24.2)\n",
      "Requirement already satisfied: certifi>=2017.4.17 in /Users/paul/anaconda3/lib/python3.7/site-packages (from requests<3.0.0,>=2.16.0->web3) (2019.6.16)\n",
      "Requirement already satisfied: chardet<3.1.0,>=3.0.2 in /Users/paul/anaconda3/lib/python3.7/site-packages (from requests<3.0.0,>=2.16.0->web3) (3.0.4)\n",
      "Requirement already satisfied: six>=1.9 in /Users/paul/anaconda3/lib/python3.7/site-packages (from protobuf<4,>=3.0.0->web3) (1.12.0)\n",
      "Requirement already satisfied: setuptools in /Users/paul/anaconda3/lib/python3.7/site-packages (from protobuf<4,>=3.0.0->web3) (41.0.1)\n",
      "Requirement already satisfied: multiaddr>=0.0.7 in /Users/paul/anaconda3/lib/python3.7/site-packages (from ipfshttpclient<1,>=0.4.12->web3) (0.0.8)\n",
      "Requirement already satisfied: parsimonious<0.9.0,>=0.8.0 in /Users/paul/anaconda3/lib/python3.7/site-packages (from eth-abi<3.0.0,>=2.0.0b6->web3) (0.8.1)\n",
      "Requirement already satisfied: cytoolz<1.0.0,>=0.8.2; implementation_name == \"cpython\" in /Users/paul/anaconda3/lib/python3.7/site-packages (from eth-utils<2.0.0,>=1.4.0->web3) (0.10.0)\n",
      "Requirement already satisfied: pycryptodome<4,>=3.6.6; extra == \"pycryptodome\" in /Users/paul/anaconda3/lib/python3.7/site-packages (from eth-hash[pycryptodome]<1.0.0,>=0.2.0->web3) (3.9.0)\n",
      "Requirement already satisfied: eth-rlp<1,>=0.1.2 in /Users/paul/anaconda3/lib/python3.7/site-packages (from eth-account<0.5.0,>=0.4.0->web3) (0.1.2)\n",
      "Requirement already satisfied: eth-keys<0.3.0,>=0.2.1 in /Users/paul/anaconda3/lib/python3.7/site-packages (from eth-account<0.5.0,>=0.4.0->web3) (0.2.4)\n",
      "Requirement already satisfied: attrdict<3,>=2.0.0 in /Users/paul/anaconda3/lib/python3.7/site-packages (from eth-account<0.5.0,>=0.4.0->web3) (2.0.1)\n",
      "Requirement already satisfied: eth-keyfile<0.6.0,>=0.5.0 in /Users/paul/anaconda3/lib/python3.7/site-packages (from eth-account<0.5.0,>=0.4.0->web3) (0.5.1)\n",
      "Requirement already satisfied: rlp<2,>=1.0.0 in /Users/paul/anaconda3/lib/python3.7/site-packages (from eth-account<0.5.0,>=0.4.0->web3) (1.1.0)\n",
      "Requirement already satisfied: varint in /Users/paul/anaconda3/lib/python3.7/site-packages (from multiaddr>=0.0.7->ipfshttpclient<1,>=0.4.12->web3) (1.0.2)\n",
      "Requirement already satisfied: base58 in /Users/paul/anaconda3/lib/python3.7/site-packages (from multiaddr>=0.0.7->ipfshttpclient<1,>=0.4.12->web3) (1.0.3)\n",
      "Requirement already satisfied: netaddr in /Users/paul/anaconda3/lib/python3.7/site-packages (from multiaddr>=0.0.7->ipfshttpclient<1,>=0.4.12->web3) (0.7.19)\n",
      "Requirement already satisfied: toolz>=0.8.0 in /Users/paul/anaconda3/lib/python3.7/site-packages (from cytoolz<1.0.0,>=0.8.2; implementation_name == \"cpython\"->eth-utils<2.0.0,>=1.4.0->web3) (0.10.0)\n",
      "Requirement already satisfied: matplotlib in /Users/paul/anaconda3/lib/python3.7/site-packages (3.1.0)\n",
      "Requirement already satisfied: cycler>=0.10 in /Users/paul/anaconda3/lib/python3.7/site-packages (from matplotlib) (0.10.0)\n",
      "Requirement already satisfied: kiwisolver>=1.0.1 in /Users/paul/anaconda3/lib/python3.7/site-packages (from matplotlib) (1.1.0)\n",
      "Requirement already satisfied: pyparsing!=2.0.4,!=2.1.2,!=2.1.6,>=2.0.1 in /Users/paul/anaconda3/lib/python3.7/site-packages (from matplotlib) (2.4.0)\n",
      "Requirement already satisfied: python-dateutil>=2.1 in /Users/paul/anaconda3/lib/python3.7/site-packages (from matplotlib) (2.8.0)\n",
      "Requirement already satisfied: numpy>=1.11 in /Users/paul/anaconda3/lib/python3.7/site-packages (from matplotlib) (1.16.4)\n",
      "Requirement already satisfied: six in /Users/paul/anaconda3/lib/python3.7/site-packages (from cycler>=0.10->matplotlib) (1.12.0)\n",
      "Requirement already satisfied: setuptools in /Users/paul/anaconda3/lib/python3.7/site-packages (from kiwisolver>=1.0.1->matplotlib) (41.0.1)\n"
     ]
    }
   ],
   "source": [
    "import sys\n",
    "!{sys.executable} -m pip install web3\n",
    "!{sys.executable} -m pip install matplotlib"
   ]
  },
  {
   "cell_type": "markdown",
   "metadata": {},
   "source": [
    "### Imports"
   ]
  },
  {
   "cell_type": "code",
   "execution_count": 6,
   "metadata": {},
   "outputs": [],
   "source": [
    "import json\n",
    "import matplotlib.pyplot as plt\n",
    "from web3 import Web3\n",
    "w3 = Web3(Web3.HTTPProvider(\"http://127.0.0.1:8545\"))\n",
    "w3.eth.defaultAccount = w3.eth.accounts[0]"
   ]
  },
  {
   "cell_type": "markdown",
   "metadata": {},
   "source": [
    "### Set Max Inputs:\n",
    "Set max number of inputs for the function. proving_scheme only accepts g16 for now, since thats the only available option in the install script version of ZoKrates. Once they are implemented, they can be choosen via provided variable."
   ]
  },
  {
   "cell_type": "code",
   "execution_count": 21,
   "metadata": {},
   "outputs": [],
   "source": [
    "max_inputs = 25\n",
    "proving_scheme = \"g16\""
   ]
  },
  {
   "cell_type": "markdown",
   "metadata": {},
   "source": [
    "### Generate ZoKrates Benchmark files:"
   ]
  },
  {
   "cell_type": "code",
   "execution_count": 22,
   "metadata": {},
   "outputs": [
    {
     "name": "stdout",
     "output_type": "stream",
     "text": [
      "Success! Files have been created\n"
     ]
    }
   ],
   "source": [
    "# function for naming function parameters with chars. Converts number to char [a-z].\n",
    "# 1 -> a, 26 -> z, 27 -> za\n",
    "def name_inputs(num, acc=\"\"):\n",
    "    if num > 26:\n",
    "        acc += chr(122)\n",
    "        return name_inputs(num - 26, acc)\n",
    "    else:\n",
    "        return acc + chr(num + 96)\n",
    "\n",
    "# generates valid ZoKrates functions with given number of inputs\n",
    "def generate_function(input_num):\n",
    "    function_name = 'def main('\n",
    "    function = \"\\n\\t return \"\n",
    "    function_return = \" -> (\" + \"field, \" * (input_num - 1) + \"field):\"\n",
    "    if input_num == 1:\n",
    "        function_name = \"def main(field a)\"\n",
    "        function = \"\\n\\t return a\"\n",
    "    else:\n",
    "        for i in range(1, input_num + 1):\n",
    "            if i != input_num:\n",
    "                function_name += ('field ' + name_inputs(i) + ', ')\n",
    "                function += name_inputs(i) + \", \"\n",
    "            else:\n",
    "                function_name += ('field ' + name_inputs(i) + ')')\n",
    "                function += name_inputs(i)\n",
    "\n",
    "    write_files(function_name + function_return + function, input_num)\n",
    "    \n",
    "# writes .code files\n",
    "def write_files(content, input_num):\n",
    "    file = open(str(input_num) + \"-benchmark.code\", \"w\")\n",
    "    file.write(content)\n",
    "    file.close()\n",
    "\n",
    "# Generates test .code files based on max_input\n",
    "for i in range(1, max_inputs + 1):\n",
    "    generate_function(i)\n",
    "print(\"Success! Files have been created\")\n",
    "\n",
    "\n"
   ]
  },
  {
   "cell_type": "markdown",
   "metadata": {},
   "source": [
    "### Compile and deploy"
   ]
  },
  {
   "cell_type": "code",
   "execution_count": 24,
   "metadata": {
    "scrolled": true
   },
   "outputs": [
    {
     "name": "stdout",
     "output_type": "stream",
     "text": [
      "Compiling 1-benchmark.code\n",
      "\n",
      "Compiled code written to 'out'\n",
      "Number of constraints: 1\n",
      "Performing setup...\n",
      "WARNING: You are using the G16 scheme which is subject to malleability. See zokrates.github.io/reference/proving_schemes.html#g16-malleability for implications.\n",
      "Has generated 3 points\n",
      "Computing witness...\n",
      "\n",
      "Witness: \n",
      "\n",
      "~out_0 3\n",
      "Generating proof...\n",
      "WARNING: You are using the G16 scheme which is subject to malleability. See zokrates.github.io/reference/proving_schemes.html#g16-malleability for implications.\n",
      "generate-proof successful: true\n",
      "Exporting verifier...\n",
      "Finished exporting verifier.\n",
      "verifier.sol:402:1: Warning: Experimental features are turned on. Do not use experimental features on live deployments.\n",
      "pragma experimental ABIEncoderV2;\n",
      "^-------------------------------^\n",
      "\n",
      "verifier.sol:450:5: Warning: Function state mutability can be restricted to view\n",
      "    function addition(G2Point memory p1, G2Point memory p2) internal returns (G2Point memory r) {\n",
      "    ^ (Relevant source part starts here and spans across multiple lines).\n",
      "\n",
      "Compiling 2-benchmark.code\n",
      "\n",
      "Compiled code written to 'out'\n",
      "Number of constraints: 2\n",
      "Performing setup...\n",
      "WARNING: You are using the G16 scheme which is subject to malleability. See zokrates.github.io/reference/proving_schemes.html#g16-malleability for implications.\n",
      "Has generated 5 points\n",
      "Computing witness...\n",
      "\n",
      "Witness: \n",
      "\n",
      "~out_1 3\n",
      "~out_0 3\n",
      "Generating proof...\n",
      "WARNING: You are using the G16 scheme which is subject to malleability. See zokrates.github.io/reference/proving_schemes.html#g16-malleability for implications.\n",
      "generate-proof successful: true\n",
      "Exporting verifier...\n",
      "Finished exporting verifier.\n",
      "verifier.sol:402:1: Warning: Experimental features are turned on. Do not use experimental features on live deployments.\n",
      "pragma experimental ABIEncoderV2;\n",
      "^-------------------------------^\n",
      "\n",
      "verifier.sol:450:5: Warning: Function state mutability can be restricted to view\n",
      "    function addition(G2Point memory p1, G2Point memory p2) internal returns (G2Point memory r) {\n",
      "    ^ (Relevant source part starts here and spans across multiple lines).\n",
      "\n",
      "Compiling 3-benchmark.code\n",
      "\n",
      "Compiled code written to 'out'\n",
      "Number of constraints: 3\n",
      "Performing setup...\n",
      "WARNING: You are using the G16 scheme which is subject to malleability. See zokrates.github.io/reference/proving_schemes.html#g16-malleability for implications.\n",
      "Has generated 7 points\n",
      "Computing witness...\n",
      "\n",
      "Witness: \n",
      "\n",
      "~out_2 3\n",
      "~out_1 3\n",
      "~out_0 3\n",
      "Generating proof...\n",
      "WARNING: You are using the G16 scheme which is subject to malleability. See zokrates.github.io/reference/proving_schemes.html#g16-malleability for implications.\n",
      "generate-proof successful: true\n",
      "Exporting verifier...\n",
      "Finished exporting verifier.\n",
      "verifier.sol:402:1: Warning: Experimental features are turned on. Do not use experimental features on live deployments.\n",
      "pragma experimental ABIEncoderV2;\n",
      "^-------------------------------^\n",
      "\n",
      "verifier.sol:450:5: Warning: Function state mutability can be restricted to view\n",
      "    function addition(G2Point memory p1, G2Point memory p2) internal returns (G2Point memory r) {\n",
      "    ^ (Relevant source part starts here and spans across multiple lines).\n",
      "\n",
      "Compiling 4-benchmark.code\n",
      "\n",
      "Compiled code written to 'out'\n",
      "Number of constraints: 4\n",
      "Performing setup...\n",
      "WARNING: You are using the G16 scheme which is subject to malleability. See zokrates.github.io/reference/proving_schemes.html#g16-malleability for implications.\n",
      "Has generated 9 points\n",
      "Computing witness...\n",
      "\n",
      "Witness: \n",
      "\n",
      "~out_3 3\n",
      "~out_2 3\n",
      "~out_1 3\n",
      "~out_0 3\n",
      "Generating proof...\n",
      "WARNING: You are using the G16 scheme which is subject to malleability. See zokrates.github.io/reference/proving_schemes.html#g16-malleability for implications.\n",
      "generate-proof successful: true\n",
      "Exporting verifier...\n",
      "Finished exporting verifier.\n",
      "verifier.sol:402:1: Warning: Experimental features are turned on. Do not use experimental features on live deployments.\n",
      "pragma experimental ABIEncoderV2;\n",
      "^-------------------------------^\n",
      "\n",
      "verifier.sol:450:5: Warning: Function state mutability can be restricted to view\n",
      "    function addition(G2Point memory p1, G2Point memory p2) internal returns (G2Point memory r) {\n",
      "    ^ (Relevant source part starts here and spans across multiple lines).\n",
      "\n",
      "Compiling 5-benchmark.code\n",
      "\n",
      "Compiled code written to 'out'\n",
      "Number of constraints: 5\n",
      "Performing setup...\n",
      "WARNING: You are using the G16 scheme which is subject to malleability. See zokrates.github.io/reference/proving_schemes.html#g16-malleability for implications.\n",
      "Has generated 11 points\n",
      "Computing witness...\n",
      "\n",
      "Witness: \n",
      "\n",
      "~out_4 3\n",
      "~out_3 3\n",
      "~out_2 3\n",
      "~out_1 3\n",
      "~out_0 3\n",
      "Generating proof...\n",
      "WARNING: You are using the G16 scheme which is subject to malleability. See zokrates.github.io/reference/proving_schemes.html#g16-malleability for implications.\n",
      "generate-proof successful: true\n",
      "Exporting verifier...\n",
      "Finished exporting verifier.\n",
      "verifier.sol:402:1: Warning: Experimental features are turned on. Do not use experimental features on live deployments.\n",
      "pragma experimental ABIEncoderV2;\n",
      "^-------------------------------^\n",
      "\n",
      "verifier.sol:450:5: Warning: Function state mutability can be restricted to view\n",
      "    function addition(G2Point memory p1, G2Point memory p2) internal returns (G2Point memory r) {\n",
      "    ^ (Relevant source part starts here and spans across multiple lines).\n",
      "\n",
      "Results Deploy:\n",
      "[1106878, 1157733, 1208666, 1259964, 1310946]\n",
      "Results Verify:\n",
      "[248112, 268096, 288073, 308067, 328042]\n"
     ]
    }
   ],
   "source": [
    "results_deploy = []\n",
    "results_verify = []\n",
    "    \n",
    "def deploy_and_call():\n",
    "    data = get_proof() \n",
    "    \n",
    "#   Deploy Contract:\n",
    "    bytecode = open('verifier_sol_Verifier.bin', 'r').read()\n",
    "    abi = open('verifier_sol_Verifier.abi', 'r').read()\n",
    "    contract = w3.eth.contract(abi=abi, bytecode=bytecode)\n",
    "    tx_hash = contract.constructor().transact()\n",
    "    tx_receipt = w3.eth.waitForTransactionReceipt(tx_hash)\n",
    "    results_deploy.append(tx_receipt.gasUsed)\n",
    "    contract = w3.eth.contract(address=tx_receipt.contractAddress, abi=abi)\n",
    "    \n",
    "#   Call verify function\n",
    "    tx_hash = contract.functions.verifyTx(data[0], data[1]).transact()\n",
    "    tx_receipt = w3.eth.waitForTransactionReceipt(tx_hash)\n",
    "    results_verify.append(tx_receipt.gasUsed)\n",
    "    \n",
    "def get_proof():\n",
    "    with open('proof.json') as f:\n",
    "        data = json.load(f)\n",
    "        f.close()\n",
    "        return (format_proof(data['proof']), format_inputs(data['inputs'])) \n",
    "    \n",
    "# formats and returns proof data as decimal tuple\n",
    "def format_proof(proof):\n",
    "    converted = []\n",
    "    for key in proof.keys():\n",
    "        res = []\n",
    "        converted.append(format_array(proof[key], res))       \n",
    "    return tuple(converted)\n",
    "\n",
    "#  convert inputs from hex to decimal\n",
    "def format_inputs(inputs):\n",
    "    res = []\n",
    "    for i in inputs:\n",
    "        res.append(int(i, 16))\n",
    "    return res\n",
    "    \n",
    "# recursive function for converting the proof data from hex to decimal (needed because of web3.py) while keeping the nested nature of proof data\n",
    "# only tested for g16 (because the only proof currently available with install script) but should work for any type of scheme\n",
    "def format_array(arr, res = [], idx = None):\n",
    "    for elem in arr:\n",
    "        if type(elem) != list:\n",
    "            if idx != None:\n",
    "                res[idx].append(int(elem, 16))\n",
    "            else:\n",
    "                res.append(int(elem, 16))\n",
    "        else:\n",
    "            res.append([])\n",
    "            format_array(elem, res, len(res)-1)\n",
    "    return res\n",
    "            \n",
    "for i in range(1, max_inputs + 1):\n",
    "    params = '3 '* i\n",
    "    file = str(i) + '-benchmark.code'\n",
    "    !zokrates compile -i {i}-benchmark.code --light\n",
    "    !zokrates setup -s {proving_scheme} --light\n",
    "    !zokrates compute-witness -a {params} --light\n",
    "    !zokrates generate-proof -s {proving_scheme}\n",
    "    !zokrates export-verifier -s {proving_scheme} -a v2\n",
    "#   Compiling contract via solc cli\n",
    "    !solcjs --abi --bin verifier.sol\n",
    "    deploy_and_call()\n",
    "\n",
    "print(\"Results Deploy:\")\n",
    "print(results_deploy)\n",
    "print(\"Results Verify:\")\n",
    "print(results_verify)\n",
    "\n"
   ]
  },
  {
   "cell_type": "markdown",
   "metadata": {},
   "source": [
    "### Deploy cost of contract"
   ]
  },
  {
   "cell_type": "code",
   "execution_count": 27,
   "metadata": {},
   "outputs": [
    {
     "data": {
      "image/png": "[encoded data removed]",
      "text/plain": [
       "<Figure size 432x288 with 1 Axes>"
      ]
     },
     "metadata": {
      "needs_background": "light"
     },
     "output_type": "display_data"
    }
   ],
   "source": [
    "ax = plt.plot(list(range(1, len(results_deploy) + 1)), [x / 1000 for x in results_deploy], '-rs')\n",
    "plt.title('Deployment Cost:')\n",
    "plt.xlabel('# of Inputs')\n",
    "plt.ylabel('k gas')\n",
    "plt.rcParams['axes.grid'] = True\n",
    "plt.rcParams['grid.color'] = \"#cccccc\"\n",
    "# ax.autoscale()\n"
   ]
  },
  {
   "cell_type": "markdown",
   "metadata": {},
   "source": [
    "### Transaction cost of Verification"
   ]
  },
  {
   "cell_type": "code",
   "execution_count": 28,
   "metadata": {},
   "outputs": [
    {
     "data": {
      "image/png": "[encoded data removed]",
      "text/plain": [
       "<Figure size 432x288 with 1 Axes>"
      ]
     },
     "metadata": {
      "needs_background": "light"
     },
     "output_type": "display_data"
    }
   ],
   "source": [
    "plt.plot(list(range(1, len(results_verify) + 1)), [x / 1000 for x in results_verify], '-rs')\n",
    "plt.title('Verification Cost:')\n",
    "plt.xlabel('# of Inputs')\n",
    "plt.ylabel('k gas')\n",
    "plt.rcParams['axes.grid'] = True\n",
    "plt.rcParams['grid.color'] = \"#cccccc\""
   ]
  },
  {
   "cell_type": "code",
   "execution_count": null,
   "metadata": {},
   "outputs": [],
   "source": []
  },
  {
   "cell_type": "code",
   "execution_count": null,
   "metadata": {},
   "outputs": [],
   "source": []
  }
 ],
 "metadata": {
  "kernelspec": {
   "display_name": "Python 3",
   "language": "python",
   "name": "python3"
  },
  "language_info": {
   "codemirror_mode": {
    "name": "ipython",
    "version": 3
   },
   "file_extension": ".py",
   "mimetype": "text/x-python",
   "name": "python",
   "nbconvert_exporter": "python",
   "pygments_lexer": "ipython3",
   "version": "3.7.3"
  }
 },
 "nbformat": 4,
 "nbformat_minor": 2
}
