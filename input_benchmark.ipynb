{
 "cells": [
  {
   "cell_type": "markdown",
   "metadata": {},
   "source": [
    "### ZoKrates Benchmarking\n",
    "\n",
    "#### Functionality:\n",
    "This notebook benchmarks the gas costs for different .code functions. By setting __max_inputs__ programms with __[1 - max_inputs]__ will be generated.\n",
    "\n",
    "E.g.\n",
    "__max_inputs = 3__ will generate the following programms, deploy and execute them, and plot the gas usage for each programm\n",
    "\n",
    "```\n",
    "def main(field a):\n",
    "\t return a\n",
    "\n",
    "def main(field a, field b):\n",
    "\t return a, b\n",
    "\n",
    "def main(field a, field b, field c):\n",
    "\t return a, b, c\n",
    "```\n",
    "\n",
    "#### Requirements for running:\n",
    "- Geth or similar blockchain client running\n",
    "- ZoKrates is installed locally (via install script)\n",
    "- solc is installed globally (npm i -g solc)\n",
    "\n",
    "#### Running Geth with Istanbul HF:\n",
    "- Install Geth\n",
    "- Run:\n",
    "    ```\n",
    "    geth --datadir chain init genesis.json\n",
    "    ```\n",
    "- Run: \n",
    "    ``` \n",
    "    geth --port 3000 --networkid 58342 --nodiscover --datadir=\"chain\" --maxpeers=0 --rpc --rpcport 8545 --rpcaddr 127.0.0.1 --rpccorsdomain \"*\" --rpcapi \"eth,net,web3\" --nodiscover --allow-insecure-unlock --unlock 0xD51E15b8580D7D1dcBD8FcfD8B712E45807BC305 --password pass --etherbase 0xD51E15b8580D7D1dcBD8FcfD8B712E45807BC305 --mine --minerthreads=1\n",
    "    ```\n",
    "\n",
    "#### Generating new Ethereum Account (Optional):\n",
    "   - Run:\n",
    "   \n",
    "    ```\n",
    "    geth --datadir chain init genesis.json\n",
    "    ```\n",
    "   - Replace the alloc address in genesis.json (without 0x prefix) \n",
    "   - Run:\n",
    "\n",
    "    ```\n",
    "    geth --datadir chain init genesis.json\n",
    "    ```\n",
    "   - Replace addresses in 'Running geth command with new address'\n",
    "\n",
    "\n",
    "### Installing Dependencies:\n"
   ]
  },
  {
   "cell_type": "code",
   "execution_count": null,
   "metadata": {
    "scrolled": true
   },
   "outputs": [],
   "source": [
    "import sys\n",
    "!{sys.executable} -m pip install web3\n",
    "!{sys.executable} -m pip install matplotlib"
   ]
  },
  {
   "cell_type": "markdown",
   "metadata": {},
   "source": [
    "### Imports"
   ]
  },
  {
   "cell_type": "code",
   "execution_count": 2,
   "metadata": {},
   "outputs": [],
   "source": [
    "import json\n",
    "import matplotlib.pyplot as plt\n",
    "from web3 import Web3\n",
    "w3 = Web3(Web3.HTTPProvider(\"http://127.0.0.1:8545\"))\n",
    "w3.eth.defaultAccount = w3.eth.accounts[0]"
   ]
  },
  {
   "cell_type": "markdown",
   "metadata": {},
   "source": [
    "### Set Max Inputs:\n",
    "Set max number of inputs for the function. proving_scheme only accepts g16 for now, since thats the only available option in the install script version of ZoKrates. Once they are implemented, they can be choosen via provided variable."
   ]
  },
  {
   "cell_type": "code",
   "execution_count": 3,
   "metadata": {},
   "outputs": [],
   "source": [
    "max_inputs = 10\n",
    "proving_scheme = \"g16\""
   ]
  },
  {
   "cell_type": "markdown",
   "metadata": {},
   "source": [
    "### Generate ZoKrates Benchmark files:"
   ]
  },
  {
   "cell_type": "code",
   "execution_count": 4,
   "metadata": {},
   "outputs": [
    {
     "name": "stdout",
     "output_type": "stream",
     "text": [
      "Success! Files have been created\n"
     ]
    }
   ],
   "source": [
    "# function for naming function parameters with chars. Converts number to char [a-z].\n",
    "# 1 -> a, 26 -> z, 27 -> za\n",
    "def name_inputs(num, acc=\"\"):\n",
    "    if num > 26:\n",
    "        acc += chr(122)\n",
    "        return name_inputs(num - 26, acc)\n",
    "    else:\n",
    "        return acc + chr(num + 96)\n",
    "\n",
    "# generates valid ZoKrates functions with given number of inputs\n",
    "def generate_function(input_num):\n",
    "    function_name = 'def main('\n",
    "    function = \"\\n\\t return \"\n",
    "    function_return = \" -> (\" + \"field, \" * (input_num - 1) + \"field):\"\n",
    "    if input_num == 1:\n",
    "        function_name = \"def main(field a)\"\n",
    "        function = \"\\n\\t return a\"\n",
    "    else:\n",
    "        for i in range(1, input_num + 1):\n",
    "            if i != input_num:\n",
    "                function_name += ('field ' + name_inputs(i) + ', ')\n",
    "                function += name_inputs(i) + \", \"\n",
    "            else:\n",
    "                function_name += ('field ' + name_inputs(i) + ')')\n",
    "                function += name_inputs(i)\n",
    "\n",
    "    write_files(function_name + function_return + function, input_num)\n",
    "    \n",
    "# writes .code files\n",
    "def write_files(content, input_num):\n",
    "    file = open(str(input_num) + \"-benchmark.zok\", \"w\")\n",
    "    file.write(content)\n",
    "    file.close()\n",
    "\n",
    "# Generates test .code files based on max_input\n",
    "for i in range(1, max_inputs + 1):\n",
    "    generate_function(i)\n",
    "print(\"Success! Files have been created\")\n",
    "\n",
    "\n"
   ]
  },
  {
   "cell_type": "markdown",
   "metadata": {},
   "source": [
    "### Compile and deploy"
   ]
  },
  {
   "cell_type": "code",
   "execution_count": null,
   "metadata": {
    "scrolled": true
   },
   "outputs": [],
   "source": [
    "results_deploy = []\n",
    "results_verify = []\n",
    "    \n",
    "def deploy_and_call():\n",
    "    data = get_proof() \n",
    "    \n",
    "#   Deploy Contract:\n",
    "    bytecode = open('verifier_sol_Verifier.bin', 'r').read()\n",
    "    abi = open('verifier_sol_Verifier.abi', 'r').read()\n",
    "    contract = w3.eth.contract(abi=abi, bytecode=bytecode)\n",
    "    tx_hash = contract.constructor().transact()\n",
    "    tx_receipt = w3.eth.waitForTransactionReceipt(tx_hash)\n",
    "    results_deploy.append(tx_receipt.gasUsed)\n",
    "    contract = w3.eth.contract(address=tx_receipt.contractAddress, abi=abi)\n",
    "    \n",
    "#   Call verify function\n",
    "    tx_hash = contract.functions.verifyTx(data[0], data[1]).transact()\n",
    "    tx_receipt = w3.eth.waitForTransactionReceipt(tx_hash)\n",
    "    results_verify.append(tx_receipt.gasUsed)\n",
    "    \n",
    "def get_proof():\n",
    "    with open('proof.json') as f:\n",
    "        data = json.load(f)\n",
    "        f.close()\n",
    "        return (format_proof(data['proof']), format_inputs(data['inputs'])) \n",
    "    \n",
    "# formats and returns proof data as decimal tuple\n",
    "def format_proof(proof):\n",
    "    converted = []\n",
    "    for key in proof.keys():\n",
    "        res = []\n",
    "        converted.append(format_array(proof[key], res))       \n",
    "    return tuple(converted)\n",
    "\n",
    "#  convert inputs from hex to decimal\n",
    "def format_inputs(inputs):\n",
    "    res = []\n",
    "    for i in inputs:\n",
    "        res.append(int(i, 16))\n",
    "    return res\n",
    "    \n",
    "# recursive function for converting the proof data from hex to decimal (needed because of web3.py) while keeping the nested nature of proof data\n",
    "# only tested for g16 (because the only proof currently available with install script) but should work for any type of scheme\n",
    "def format_array(arr, res = [], idx = None):\n",
    "    for elem in arr:\n",
    "        if type(elem) != list:\n",
    "            if idx != None:\n",
    "                res[idx].append(int(elem, 16))\n",
    "            else:\n",
    "                res.append(int(elem, 16))\n",
    "        else:\n",
    "            res.append([])\n",
    "            format_array(elem, res, len(res)-1)\n",
    "    return res\n",
    "            \n",
    "for i in range(1, max_inputs + 1):\n",
    "    params = '3 '* i\n",
    "    file = str(i) + '-benchmark.zok'\n",
    "    !zokrates compile -i {i}-benchmark.zok --light\n",
    "    !zokrates setup -s {proving_scheme} --light\n",
    "    !zokrates compute-witness -a {params} --light\n",
    "    !zokrates generate-proof -s {proving_scheme}\n",
    "    !zokrates export-verifier -s {proving_scheme} -a v2\n",
    "#   Compiling contract via solc cli\n",
    "    !solcjs --abi --bin verifier.sol\n",
    "    deploy_and_call()\n",
    "\n",
    "print(\"Results Deploy:\")\n",
    "print(results_deploy)\n",
    "print(\"Results Verify:\")\n",
    "print(results_verify)\n",
    "\n"
   ]
  },
  {
   "cell_type": "markdown",
   "metadata": {},
   "source": [
    "### Deploy cost of contract"
   ]
  },
  {
   "cell_type": "code",
   "execution_count": 8,
   "metadata": {},
   "outputs": [
    {
     "data": {
      "image/png": "[encoded data removed]",
      "text/plain": [
       "<Figure size 432x288 with 1 Axes>"
      ]
     },
     "metadata": {
      "needs_background": "light"
     },
     "output_type": "display_data"
    }
   ],
   "source": [
    "ax = plt.plot(list(range(1, len(results_deploy) + 1)), [x / 1000 for x in results_deploy], '-rs')\n",
    "plt.title('Deployment Cost:')\n",
    "plt.xlabel('# of Inputs')\n",
    "plt.ylabel('k gas')\n",
    "plt.rcParams['axes.grid'] = True\n",
    "plt.rcParams['grid.color'] = \"#cccccc\"\n",
    "plt.savefig('exports/deploy.png')\n"
   ]
  },
  {
   "cell_type": "markdown",
   "metadata": {},
   "source": [
    "### Transaction cost of Verification"
   ]
  },
  {
   "cell_type": "code",
   "execution_count": 7,
   "metadata": {},
   "outputs": [
    {
     "data": {
      "image/png": "[encoded data removed]",
      "text/plain": [
       "<Figure size 432x288 with 1 Axes>"
      ]
     },
     "metadata": {
      "needs_background": "light"
     },
     "output_type": "display_data"
    }
   ],
   "source": [
    "plt.plot(list(range(1, len(results_verify) + 1)), [x / 1000 for x in results_verify], '-rs')\n",
    "plt.title('Verification Cost:')\n",
    "plt.xlabel('# of Inputs')\n",
    "plt.ylabel('k gas')\n",
    "plt.rcParams['axes.grid'] = True\n",
    "plt.rcParams['grid.color'] = \"#cccccc\"\n",
    "plt.savefig('exports/verification.png')"
   ]
  },
  {
   "cell_type": "code",
   "execution_count": null,
   "metadata": {},
   "outputs": [],
   "source": []
  },
  {
   "cell_type": "code",
   "execution_count": null,
   "metadata": {},
   "outputs": [],
   "source": []
  },
  {
   "cell_type": "code",
   "execution_count": null,
   "metadata": {},
   "outputs": [],
   "source": []
  },
  {
   "cell_type": "code",
   "execution_count": null,
   "metadata": {},
   "outputs": [],
   "source": []
  }
 ],
 "metadata": {
  "kernelspec": {
   "display_name": "Python 3",
   "language": "python",
   "name": "python3"
  },
  "language_info": {
   "codemirror_mode": {
    "name": "ipython",
    "version": 3
   },
   "file_extension": ".py",
   "mimetype": "text/x-python",
   "name": "python",
   "nbconvert_exporter": "python",
   "pygments_lexer": "ipython3",
   "version": "3.7.3"
  }
 },
 "nbformat": 4,
 "nbformat_minor": 2
}
