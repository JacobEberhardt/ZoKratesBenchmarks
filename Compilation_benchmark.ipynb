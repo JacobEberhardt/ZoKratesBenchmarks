{
 "cells": [
  {
   "cell_type": "markdown",
   "metadata": {},
   "source": [
    "### Compilation/Generation Benchmark:\n",
    "\n",
    "#### Requirements for running:\n",
    "- ZoKrates installed (via install script)\n",
    "\n",
    "\n",
    "#### Select files:\n",
    "- Drop all files that are supposed to be benchmarked in the files/ directory in this project\n",
    "\n",
    "#### Python Imports:"
   ]
  },
  {
   "cell_type": "code",
   "execution_count": 13,
   "metadata": {},
   "outputs": [],
   "source": [
    "%%capture\n",
    "import sys\n",
    "!{sys.executable} -m pip install matplotlib\n",
    "!{sys.executable} -m pip install numpy\n",
    "import os\n",
    "import math\n",
    "import matplotlib.pyplot as plt\n",
    "import numpy as np"
   ]
  },
  {
   "cell_type": "markdown",
   "metadata": {},
   "source": [
    "#### Iterate Files:\n",
    "\n",
    "##### Benchmark Settings:\n",
    "- Each programm will be run N * R times\n",
    "    - N: Number of executions in one loop\n",
    "    - R: Number of loop executions"
   ]
  },
  {
   "cell_type": "code",
   "execution_count": 14,
   "metadata": {},
   "outputs": [
    {
     "ename": "FileNotFoundError",
     "evalue": "[Errno 2] No such file or directory: './out.code'",
     "output_type": "error",
     "traceback": [
      "\u001b[0;31m---------------------------------------------------------------------------\u001b[0m",
      "\u001b[0;31mFileNotFoundError\u001b[0m                         Traceback (most recent call last)",
      "\u001b[0;32m<ipython-input-14-7ba5c974943a>\u001b[0m in \u001b[0;36m<module>\u001b[0;34m\u001b[0m\n\u001b[1;32m     58\u001b[0m     \u001b[0mwitness_time\u001b[0m\u001b[0;34m.\u001b[0m\u001b[0mappend\u001b[0m\u001b[0;34m(\u001b[0m\u001b[0mcompute_witness\u001b[0m\u001b[0;34m(\u001b[0m\u001b[0mfile\u001b[0m\u001b[0;34m)\u001b[0m\u001b[0;34m)\u001b[0m\u001b[0;34m\u001b[0m\u001b[0;34m\u001b[0m\u001b[0m\n\u001b[1;32m     59\u001b[0m     \u001b[0mproof_time\u001b[0m\u001b[0;34m.\u001b[0m\u001b[0mappend\u001b[0m\u001b[0;34m(\u001b[0m\u001b[0mgenerate_proof\u001b[0m\u001b[0;34m(\u001b[0m\u001b[0;34m)\u001b[0m\u001b[0;34m)\u001b[0m\u001b[0;34m\u001b[0m\u001b[0;34m\u001b[0m\u001b[0m\n\u001b[0;32m---> 60\u001b[0;31m     \u001b[0mcount_constraints\u001b[0m\u001b[0;34m(\u001b[0m\u001b[0;34m)\u001b[0m\u001b[0;34m\u001b[0m\u001b[0;34m\u001b[0m\u001b[0m\n\u001b[0m\u001b[1;32m     61\u001b[0m \u001b[0;34m\u001b[0m\u001b[0m\n\u001b[1;32m     62\u001b[0m \u001b[0mconstraints\u001b[0m\u001b[0;34m,\u001b[0m \u001b[0mcompile_time\u001b[0m\u001b[0;34m,\u001b[0m \u001b[0msetup_time\u001b[0m\u001b[0;34m,\u001b[0m \u001b[0mwitness_time\u001b[0m\u001b[0;34m,\u001b[0m \u001b[0mproof_time\u001b[0m \u001b[0;34m=\u001b[0m \u001b[0msort_res\u001b[0m\u001b[0;34m(\u001b[0m\u001b[0;34m)\u001b[0m\u001b[0;34m\u001b[0m\u001b[0;34m\u001b[0m\u001b[0m\n",
      "\u001b[0;32m<ipython-input-14-7ba5c974943a>\u001b[0m in \u001b[0;36mcount_constraints\u001b[0;34m()\u001b[0m\n\u001b[1;32m     13\u001b[0m \u001b[0;31m# counts constraints by looking into out.code\u001b[0m\u001b[0;34m\u001b[0m\u001b[0;34m\u001b[0m\u001b[0;34m\u001b[0m\u001b[0m\n\u001b[1;32m     14\u001b[0m \u001b[0;32mdef\u001b[0m \u001b[0mcount_constraints\u001b[0m\u001b[0;34m(\u001b[0m\u001b[0;34m)\u001b[0m\u001b[0;34m:\u001b[0m\u001b[0;34m\u001b[0m\u001b[0;34m\u001b[0m\u001b[0m\n\u001b[0;32m---> 15\u001b[0;31m     \u001b[0mf\u001b[0m \u001b[0;34m=\u001b[0m \u001b[0mopen\u001b[0m\u001b[0;34m(\u001b[0m\u001b[0;34m\"./out.code\"\u001b[0m\u001b[0;34m,\u001b[0m\u001b[0;34m'r'\u001b[0m\u001b[0;34m)\u001b[0m\u001b[0;34m\u001b[0m\u001b[0;34m\u001b[0m\u001b[0m\n\u001b[0m\u001b[1;32m     16\u001b[0m     \u001b[0mconstraints\u001b[0m\u001b[0;34m.\u001b[0m\u001b[0mappend\u001b[0m\u001b[0;34m(\u001b[0m\u001b[0mlen\u001b[0m\u001b[0;34m(\u001b[0m\u001b[0mlist\u001b[0m\u001b[0;34m(\u001b[0m\u001b[0mfilter\u001b[0m\u001b[0;34m(\u001b[0m\u001b[0;32mlambda\u001b[0m \u001b[0mx\u001b[0m\u001b[0;34m:\u001b[0m \u001b[0;34m\"==\"\u001b[0m \u001b[0;32min\u001b[0m \u001b[0mx\u001b[0m\u001b[0;34m,\u001b[0m \u001b[0mf\u001b[0m\u001b[0;34m.\u001b[0m\u001b[0mreadlines\u001b[0m\u001b[0;34m(\u001b[0m\u001b[0;34m)\u001b[0m\u001b[0;34m)\u001b[0m\u001b[0;34m)\u001b[0m\u001b[0;34m)\u001b[0m\u001b[0;34m)\u001b[0m\u001b[0;34m\u001b[0m\u001b[0;34m\u001b[0m\u001b[0m\n\u001b[1;32m     17\u001b[0m \u001b[0;34m\u001b[0m\u001b[0m\n",
      "\u001b[0;31mFileNotFoundError\u001b[0m: [Errno 2] No such file or directory: './out.code'"
     ]
    }
   ],
   "source": [
    "%%capture\n",
    "compile_time = []\n",
    "setup_time = []\n",
    "witness_time = []\n",
    "proof_time = []\n",
    "constraints = []\n",
    "# Set N and R here\n",
    "%alias_magic benchmark timeit -p \"-n 1 -r 1 -o\"\n",
    "\n",
    "def compile_file(file):\n",
    "    value = %benchmark !zokrates compile -i files/{file}\n",
    "    return int(value.best * 1000000)\n",
    "    \n",
    "# counts constraints by looking into out.code\n",
    "def count_constraints():\n",
    "    f = open(\"./out.code\",'r')\n",
    "    constraints.append(len(list(filter(lambda x: \"==\" in x, f.readlines()))))\n",
    "    \n",
    "def setup():\n",
    "    value = %benchmark !zokrates setup --light\n",
    "    return int(value.best * 1000000)\n",
    "\n",
    "'''\n",
    "this method gets the first line of given .code file and extracts function parameters.\n",
    "Expected format: \n",
    "    -commented out in first line of file with a space after '//'\n",
    "\n",
    "E.g.\n",
    "\n",
    "// 337 113569\n",
    "def main(private field a, field b) -> (field):\n",
    "  field result = if a * a == b then 1 else 0 fi\n",
    "  return result\n",
    "'''\n",
    "def get_parameters(file):\n",
    "    with open('files/' + file) as f:\n",
    "        line = f.readline()\n",
    "        if \"//\" in line:\n",
    "            return \"-a\" + line.replace(\"//\", \"\")\n",
    "        else:\n",
    "            return \"\"\n",
    "        \n",
    "def compute_witness(file):\n",
    "    params = get_parameters(file)\n",
    "    value = %benchmark !zokrates compute-witness {params} --light\n",
    "    return int(value.best * 1000000)\n",
    "\n",
    "def generate_proof():\n",
    "    value = %benchmark !zokrates generate-proof --light\n",
    "    return int(value.best * 1000000)\n",
    "\n",
    "#Sorts all lists based on constraint count\n",
    "def sort_res():\n",
    "    return zip(*sorted(zip(constraints, compile_time, setup_time, witness_time, proof_time)))\n",
    "    \n",
    "for file in os.listdir('./files'):\n",
    "    compile_time.append(compile_file(file))\n",
    "    setup_time.append(setup())\n",
    "    witness_time.append(compute_witness(file))\n",
    "    proof_time.append(generate_proof())\n",
    "    count_constraints()\n",
    "    \n",
    "constraints, compile_time, setup_time, witness_time, proof_time = sort_res()"
   ]
  },
  {
   "cell_type": "code",
   "execution_count": 6,
   "metadata": {},
   "outputs": [
    {
     "name": "stdout",
     "output_type": "stream",
     "text": [
      "[115175, 109418, 113024]\n",
      "[114199, 111039, 114187]\n",
      "[112579, 114243]\n",
      "[114426, 110035]\n",
      "[2962, 2962]\n"
     ]
    }
   ],
   "source": [
    "print(compile_time)\n",
    "print(setup_time)\n",
    "print(witness_time)\n",
    "print(proof_time)\n",
    "print(constraints)"
   ]
  },
  {
   "cell_type": "markdown",
   "metadata": {},
   "source": [
    "#### Compilation and Setup Diagram:\n"
   ]
  },
  {
   "cell_type": "code",
   "execution_count": 11,
   "metadata": {},
   "outputs": [
    {
     "data": {
      "image/png": "[encoded data removed]",
      "text/plain": [
       "<Figure size 432x288 with 1 Axes>"
      ]
     },
     "metadata": {
      "needs_background": "light"
     },
     "output_type": "display_data"
    }
   ],
   "source": [
    "x = np.arange(len(constraints))  # the label locations\n",
    "width = 0.15  # the width of the bars\n",
    "\n",
    "fig, ax = plt.subplots()\n",
    "rects1 = ax.bar(x - width/2, compile_time, width, label='Compile', edgecolor='#005eb8', color='#7faedb')\n",
    "rects2 = ax.bar(x + width/2, setup_time, width, label='Setup', edgecolor='#ff4c4c', color='#ffa5a5')\n",
    "ax.set_ylabel('t in μs')\n",
    "ax.set_xticks(x)\n",
    "ax.set_xlabel('# of Constraints')\n",
    "ax.set_xticklabels(constraints)\n",
    "ax.legend()\n",
    "ax.semilogy(np.exp(0 / max(setup_time)))\n",
    "ax.set_ylim(ymin=1000)\n",
    "fig.tight_layout()\n",
    "plt.rcParams['axes.grid'] = True\n",
    "plt.rcParams['grid.color'] = \"#cccccc\"\n",
    "plt.savefig('exports/compile-setup.png')\n",
    "plt.show()"
   ]
  },
  {
   "cell_type": "markdown",
   "metadata": {},
   "source": [
    "#### Witness and Proof Diagram:"
   ]
  },
  {
   "cell_type": "code",
   "execution_count": 12,
   "metadata": {},
   "outputs": [
    {
     "data": {
      "image/png": "[encoded data removed]",
      "text/plain": [
       "<Figure size 432x288 with 1 Axes>"
      ]
     },
     "metadata": {
      "needs_background": "light"
     },
     "output_type": "display_data"
    }
   ],
   "source": [
    "x = np.arange(len(constraints))  # the label locations\n",
    "width = 0.15  # the width of the bars\n",
    "\n",
    "fig, ax = plt.subplots()\n",
    "rects1 = ax.bar(x - width/2, witness_time, width, label='Witness', edgecolor='#005eb8', color='#7faedb')\n",
    "rects2 = ax.bar(x + width/2, proof_time, width, label='Proof', edgecolor='#ff4c4c', color='#ffa5a5')\n",
    "ax.set_ylabel('t in μs')\n",
    "ax.set_xticks(x)\n",
    "ax.set_xlabel('# of Constraints')\n",
    "ax.set_xticklabels(constraints)\n",
    "ax.legend()\n",
    "ax.semilogy(np.exp(0 / max(setup_time)))\n",
    "ax.set_ylim(ymin=1000)\n",
    "fig.tight_layout()\n",
    "plt.rcParams['axes.grid'] = True\n",
    "plt.rcParams['grid.color'] = \"#cccccc\"\n",
    "plt.savefig('exports/witness-proof.png')\n",
    "plt.show()"
   ]
  },
  {
   "cell_type": "code",
   "execution_count": null,
   "metadata": {},
   "outputs": [],
   "source": []
  },
  {
   "cell_type": "code",
   "execution_count": null,
   "metadata": {},
   "outputs": [],
   "source": []
  }
 ],
 "metadata": {
  "kernelspec": {
   "display_name": "Python 3",
   "language": "python",
   "name": "python3"
  },
  "language_info": {
   "codemirror_mode": {
    "name": "ipython",
    "version": 3
   },
   "file_extension": ".py",
   "mimetype": "text/x-python",
   "name": "python",
   "nbconvert_exporter": "python",
   "pygments_lexer": "ipython3",
   "version": "3.7.3"
  }
 },
 "nbformat": 4,
 "nbformat_minor": 4
}
