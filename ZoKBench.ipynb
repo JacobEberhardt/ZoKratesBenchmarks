{
 "cells": [
  {
   "cell_type": "code",
   "execution_count": 2,
   "metadata": {},
   "outputs": [
    {
     "name": "stdout",
     "output_type": "stream",
     "text": [
      "ZoK Bench\n"
     ]
    }
   ],
   "source": [
    "print(\"ZoK Bench\")"
   ]
  },
  {
   "cell_type": "code",
   "execution_count": 17,
   "metadata": {
    "scrolled": false
   },
   "outputs": [
    {
     "name": "stdout",
     "output_type": "stream",
     "text": [
      "Compiling /Users/jacobeberhardt/workspaces/rust_workspace/ZoKrates/zokrates_cli/examples/n_choose_k.code\n",
      "\n",
      "Compiled code written to 'out'\n",
      "Number of constraints: 2962\n",
      "0.2762033880001127\n"
     ]
    }
   ],
   "source": [
    "from timeit import default_timer as timer\n",
    "\n",
    "start = timer()\n",
    "!zokrates compile -i /Users/jacobeberhardt/workspaces/rust_workspace/ZoKrates/zokrates_cli/examples/n_choose_k.code --light\n",
    "end = timer()\n",
    "print(end - start) # Time in seconds, e.g. 5.38091952400282"
   ]
  },
  {
   "cell_type": "code",
   "execution_count": 18,
   "metadata": {},
   "outputs": [
    {
     "name": "stdout",
     "output_type": "stream",
     "text": [
      "Performing setup...\n",
      "WARNING: You are using the G16 scheme which is subject to malleability. See zokrates.github.io/reference/proving_schemes.html#g16-malleability for implications.\n",
      "Has generated 2371 points\n",
      "0.9391535050001494\n"
     ]
    }
   ],
   "source": [
    "start = timer()\n",
    "!zokrates setup --light\n",
    "end = timer()\n",
    "print(end - start) # Time in seconds, e.g. 5.38091952400282"
   ]
  },
  {
   "cell_type": "code",
   "execution_count": 16,
   "metadata": {},
   "outputs": [
    {
     "name": "stdout",
     "output_type": "stream",
     "text": [
      "Computing witness...\n",
      "\n",
      "Witness: \n",
      "\n",
      "~out_0 7921309125263993390278583837250078523463176726349469616983444809795527776401\n",
      "0.19708991999982572\n"
     ]
    }
   ],
   "source": [
    "start = timer()\n",
    "!zokrates compute-witness -a 2323 232 --light\n",
    "end = timer()\n",
    "print(end - start) # Time in seconds, e.g. 5.38091952400282"
   ]
  },
  {
   "cell_type": "code",
   "execution_count": 19,
   "metadata": {},
   "outputs": [
    {
     "name": "stdout",
     "output_type": "stream",
     "text": [
      "Generating proof...\n",
      "WARNING: You are using the G16 scheme which is subject to malleability. See zokrates.github.io/reference/proving_schemes.html#g16-malleability for implications.\n",
      "generate-proof successful: true\n",
      "0.3457601339998746\n"
     ]
    }
   ],
   "source": [
    "start = timer()\n",
    "!zokrates generate-proof\n",
    "end = timer()\n",
    "print(end - start) # Time in seconds, e.g. 5.38091952400282"
   ]
  }
 ],
 "metadata": {
  "kernelspec": {
   "display_name": "Python 3",
   "language": "python",
   "name": "python3"
  },
  "language_info": {
   "codemirror_mode": {
    "name": "ipython",
    "version": 3
   },
   "file_extension": ".py",
   "mimetype": "text/x-python",
   "name": "python",
   "nbconvert_exporter": "python",
   "pygments_lexer": "ipython3",
   "version": "3.7.3"
  }
 },
 "nbformat": 4,
 "nbformat_minor": 4
}
