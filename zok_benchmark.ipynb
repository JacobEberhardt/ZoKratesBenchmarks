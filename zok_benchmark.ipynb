{
 "cells": [
  {
   "cell_type": "markdown",
   "metadata": {},
   "source": [
    "### Compilation/Generation Benchmark:\n",
    "\n",
    "#### Requirements for running:\n",
    "- ZoKrates installed (via install script)\n",
    "\n",
    "\n",
    "#### Select files:\n",
    "- Drop all files that are supposed to be benchmarked in the files/ directory in this project\n",
    "\n",
    "#### Python Imports:"
   ]
  },
  {
   "cell_type": "code",
   "execution_count": 2,
   "metadata": {},
   "outputs": [],
   "source": [
    "%%capture\n",
    "import sys\n",
    "!{sys.executable} -m pip install matplotlib\n",
    "!{sys.executable} -m pip install numpy\n",
    "!{sys.executable} -m pip install csv2md\n",
    "import os\n",
    "import math\n",
    "import matplotlib.pyplot as plt\n",
    "import numpy as np\n",
    "import datetime\n",
    "import statistics"
   ]
  },
  {
   "cell_type": "markdown",
   "metadata": {},
   "source": [
    "#### Iterate Files:\n",
    "\n",
    "##### Benchmark Settings:\n",
    "- Each programm will be run N * R times\n",
    "    - N: Number of loop iterations. The minimum value of all loop execution times is returned to eliminate side-effects from parallel processes on the benchmarking machine.\n",
    "    - R: Number of repetitions in one loop. Values are averaged, stddev is calculated."
   ]
  },
  {
   "cell_type": "code",
   "execution_count": null,
   "metadata": {},
   "outputs": [],
   "source": [
    "compile_opt = []\n",
    "compile_opt_stdev = []\n",
    "constraints_opt = []\n",
    "mem_usg = []\n",
    "mem_usg_stdev = []\n",
    "files = []\n",
    "started = 0\n",
    "\n",
    "# Set N and R here, also set in alias_magic!!\n",
    "n = 5\n",
    "r = 3\n",
    "%alias_magic benchmark timeit -p \"-n 1 -r 1 -o\"\n",
    "\n",
    "def compile_file(file, unopt):\n",
    "    cmd = f\"./memusg.sh zokrates compile -i files/{file} --light > constraints.txt\"\n",
    "    value = %benchmark !{cmd}\n",
    "    compile_opt.append(int(value.best * 1000000))\n",
    "    get_memusg()\n",
    "\n",
    "# counts constraints by looking into out.ztf\n",
    "def count_constraints(unopt):\n",
    "    f = open(\"./constraints.txt\",'r')\n",
    "    lines = f.read().splitlines()\n",
    "    length = lines[-1].split(\"Number of constraints: \")[1]\n",
    "    if unopt:\n",
    "        constraints_unopt.append(length)\n",
    "    else:\n",
    "        constraints_opt.append(length)\n",
    "    \n",
    "    \n",
    "def get_memusg():\n",
    "    with open('exports/data/memusg_res.txt', 'r+') as f:\n",
    "        val_list = [int(line.rstrip()) for line in f]\n",
    "        chunks = [val_list[x:x+r] for x in range(0, len(val_list), r)] # turns list into list of repetitions results -> dim: [n][r]\n",
    "        mem_usg.append(min([statistics.mean(chunk) for chunk in chunks])) # takes average of each loop and selects min as result\n",
    "        f.truncate(0)\n",
    "\n",
    "# empties files from previous results\n",
    "def reset_files():\n",
    "    results = open(\"exports/data/result.csv\", \"w\")\n",
    "    results.write(\"file, compile_opt_microsec, memusg_compile_KiB, constraints\\n\")\n",
    "    open(\"exports/data/memusg_res.txt\", 'w').close()\n",
    "    open(\"console_log.txt\", 'w').close()\n",
    "    \n",
    "    \n",
    "    \n",
    "def export_data():\n",
    "    file = open(\"exports/data/result.csv\", \"a\")\n",
    "    for i, val in enumerate(compile_opt):\n",
    "        file.write(\n",
    "            files[i] + \", \" +\n",
    "            str(val) + \", \" + \n",
    "            str(mem_usg[i]) + \", \" + \n",
    "            str(constraints_opt[i]) + \"\\n\"\n",
    "        )\n",
    "    file.close()\n",
    "    \n",
    "reset_files()  \n",
    "for file in sorted(os.listdir('./files')):\n",
    "    if file.endswith(\".zok\"):\n",
    "        print(file)\n",
    "        started = datetime.datetime.now() \n",
    "        print(\"Started Optimized: \" + started.strftime(\"%H:%M:%S\") + \"\\n\")\n",
    "        print(\"Compiling: \", end =\" \")\n",
    "        compile_file(file, False)\n",
    "        print(\"\\nRan: \" + str(datetime.datetime.now() - started))\n",
    "        count_constraints(False)\n",
    "        print(\"_________________________________________________\\n\")\n",
    "    else:\n",
    "        continue\n",
    "    \n",
    "    files.append(file.split('.')[0])\n",
    "\n",
    "export_data()"
   ]
  },
  {
   "cell_type": "code",
   "execution_count": 1,
   "metadata": {
    "scrolled": true
   },
   "outputs": [
    {
     "name": "stdout",
     "output_type": "stream",
     "text": [
      "| file |  compile_opt_microsec |  memusg_compile_KiB |  constraints |\n",
      "| ---- | --------------------- | ------------------- | ------------ |\n",
      "\n"
     ]
    }
   ],
   "source": [
    "!csv2md exports/data/result.csv > exports/data/table.md\n",
    "\n",
    "with open(\"exports/data/table.md\") as f:\n",
    "    print(f.read())"
   ]
  },
  {
   "cell_type": "markdown",
   "metadata": {},
   "source": [
    "#### Compilation and Setup Diagram:\n"
   ]
  },
  {
   "cell_type": "code",
   "execution_count": null,
   "metadata": {},
   "outputs": [],
   "source": []
  },
  {
   "cell_type": "markdown",
   "metadata": {},
   "source": [
    "#### Witness and Proof Diagram:"
   ]
  },
  {
   "cell_type": "code",
   "execution_count": null,
   "metadata": {},
   "outputs": [],
   "source": []
  },
  {
   "cell_type": "code",
   "execution_count": null,
   "metadata": {},
   "outputs": [],
   "source": []
  },
  {
   "cell_type": "code",
   "execution_count": null,
   "metadata": {},
   "outputs": [],
   "source": []
  }
 ],
 "metadata": {
  "kernelspec": {
   "display_name": "Python 3",
   "language": "python",
   "name": "python3"
  },
  "language_info": {
   "codemirror_mode": {
    "name": "ipython",
    "version": 3
   },
   "file_extension": ".py",
   "mimetype": "text/x-python",
   "name": "python",
   "nbconvert_exporter": "python",
   "pygments_lexer": "ipython3",
   "version": "3.7.3"
  }
 },
 "nbformat": 4,
 "nbformat_minor": 4
}
