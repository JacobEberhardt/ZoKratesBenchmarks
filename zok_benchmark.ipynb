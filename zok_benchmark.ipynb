{
 "cells": [
  {
   "cell_type": "markdown",
   "metadata": {},
   "source": [
    "### Compilation/Generation Benchmark:\n",
    "\n",
    "#### Requirements for running:\n",
    "- ZoKrates installed (via install script)\n",
    "\n",
    "\n",
    "#### Select files:\n",
    "- Drop all files that are supposed to be benchmarked in the files/ directory in this project\n",
    "\n",
    "#### Python Imports:"
   ]
  },
  {
   "cell_type": "code",
   "execution_count": 1,
   "metadata": {},
   "outputs": [],
   "source": [
    "%%capture\n",
    "import sys\n",
    "!{sys.executable} -m pip install matplotlib\n",
    "!{sys.executable} -m pip install numpy\n",
    "!{sys.executable} -m pip install csv2md\n",
    "import os\n",
    "import math\n",
    "import matplotlib.pyplot as plt\n",
    "import numpy as np\n",
    "import datetime\n",
    "import statistics\n",
    "import time\n",
    "\n"
   ]
  },
  {
   "cell_type": "markdown",
   "metadata": {},
   "source": [
    "#### Iterate Files:\n",
    "\n",
    "##### Benchmark Settings:\n",
    "- Each programm will be run N * R times\n",
    "    - N: Number of loop iterations. The minimum value of all loop execution times is returned to eliminate side-effects from parallel processes on the benchmarking machine.\n",
    "    - R: Number of repetitions in one loop. Values are averaged, stddev is calculated."
   ]
  },
  {
   "cell_type": "code",
   "execution_count": null,
   "metadata": {},
   "outputs": [
    {
     "name": "stdout",
     "output_type": "stream",
     "text": [
      "Created `%benchmark` as an alias for `%timeit -n 1 -r 1 -o`.\n",
      "Created `%%benchmark` as an alias for `%%timeit -n 1 -r 1 -o`.\n",
      "3_8_sha.zok\n",
      "Started Optimized: 14:18:48\n",
      "\n",
      "Compiling:  1h 3min 1s ± 0 ns per loop (mean ± std. dev. of 1 run, 1 loop each)\n",
      "[9956204]\n",
      "Setup:  "
     ]
    }
   ],
   "source": [
    "compile_opt = []\n",
    "compile_opt_stdev = []\n",
    "setup_opt = []\n",
    "setup_opt_stdev = []\n",
    "witness_opt = []\n",
    "witness_opt_stdev = []\n",
    "proof_opt = []\n",
    "proof_opt_stdev = []\n",
    "constraints_opt = []\n",
    "mem_usg = []\n",
    "mem_usg_stdev = []\n",
    "files = []\n",
    "started = 0\n",
    "\n",
    "# Set N and R here, also set in alias_magic!!\n",
    "r = 1\n",
    "n = 1\n",
    "%alias_magic benchmark timeit -p \"-n 1 -r 1 -o\"\n",
    "\n",
    "def compile_file(file, unopt):\n",
    "    if unopt:\n",
    "        cmd = f\"./memusg.sh ./zokrates_unoptimized compile -i files/{file} --light > constraints.txt\"\n",
    "        value = %benchmark !{cmd}\n",
    "        compile_unopt.append(int(value.best))\n",
    "    else:\n",
    "        cmd = f\"./memusg.sh zokrates compile -i files/{file} --light > constraints.txt\"\n",
    "        value = %benchmark !{cmd}\n",
    "        compile_opt.append(int(value.best))\n",
    "    get_memusg()\n",
    "\n",
    "def setup(unopt):\n",
    "    if unopt:\n",
    "        cmd = f\"./memusg.sh ./zokrates_unoptimized setup --light >> console_log.txt\"\n",
    "        value = %benchmark !{cmd}\n",
    "        setup_unopt.append(int(value.best))\n",
    "    else:\n",
    "        cmd = f\"./memusg.sh zokrates setup --light >> console_log.txt\"\n",
    "        value = %benchmark !{cmd}\n",
    "        setup_opt.append(int(value.best))\n",
    "    get_memusg()\n",
    "\n",
    "def witness(file, unopt):\n",
    "    params = get_parameters(file)\n",
    "    if unopt:\n",
    "        cmd = f\"./memusg.sh ./zokrates_unoptimized compute-witness {params} --light >> console_log.txt\"\n",
    "        value = %benchmark !{cmd}\n",
    "        witness_unopt.append(int(value.best))\n",
    "    else:\n",
    "        run = 0\n",
    "        best = 161711565 # current unix timestamp, cant run longer then that\n",
    "        while run < n:\n",
    "            start = time.time()\n",
    "            !{params}\n",
    "            runtime = time.time() - start\n",
    "            if runtime < best:\n",
    "                best = runtime\n",
    "            run += 1\n",
    "        print(str(int(best)) + \"s best time, \" + str(n) + \" loops\")\n",
    "        witness_opt.append(int(best))\n",
    "        get_memusg()\n",
    "\n",
    "def proof(unopt):\n",
    "    if unopt:\n",
    "        cmd = f\"./memusg.sh ./zokrates_unoptimized generate-proof >> console_log.txt\";\n",
    "        value = %benchmark !{cmd};\n",
    "        proof_unopt.append(int(value.best))\n",
    "    else:\n",
    "        cmd = f\"./memusg.sh zokrates generate-proof >> console_log.txt\";\n",
    "        value = %benchmark !{cmd};\n",
    "        proof_opt.append(int(value.best))\n",
    "    get_memusg()\n",
    "\n",
    "# counts constraints by looking into out.ztf\n",
    "def count_constraints(unopt):\n",
    "    f = open(\"./constraints.txt\",'r')\n",
    "    lines = f.read().splitlines()\n",
    "    length = lines[-1].split(\"Number of constraints: \")[1]\n",
    "    if unopt:\n",
    "        constraints_unopt.append(length)\n",
    "    else:\n",
    "        constraints_opt.append(length)\n",
    "    \n",
    "    \n",
    "def get_memusg():\n",
    "    time.sleep(2)\n",
    "    with open('exports/data/memusg_res.txt', 'r+') as f:\n",
    "        val_list = [int(line.rstrip()) for line in f]\n",
    "        print(val_list)\n",
    "        mem_usg.append(val_list[0])\n",
    "        f.truncate(0)\n",
    "\n",
    "'''\n",
    "this method gets the first line of given .zok file and extracts function parameters.\n",
    "Expected format: \n",
    "    -commented out in first line of file with a space after '//'\n",
    "\n",
    "E.g.\n",
    "\n",
    "// 337 113569\n",
    "def main(private field a, field b) -> (field):\n",
    "  field result = if a * a == b then 1 else 0 fi\n",
    "  return result\n",
    "'''\n",
    "def get_parameters(file):\n",
    "    with open('files/' + file) as f:\n",
    "        line = f.readline()\n",
    "        if \"//\" in line:\n",
    "            return line.replace(\"//\", \"\")\n",
    "        else:\n",
    "            return \"\"\n",
    "\n",
    "# empties files from previous results\n",
    "def reset_files():\n",
    "    results = open(\"exports/data/result.csv\", \"w\")\n",
    "    results.write(\"file, compile_opt_sec, memusg_compile_KiB, setup_opt_sec, memusg_setup_KiB, witness_opt_sec, memusg_witness_KiB, proof_opt_sec, memusg_proof_KiB, constr_opt\\n\")\n",
    "    open(\"exports/data/memusg_res.txt\", 'w').close()\n",
    "    open(\"console_log.txt\", 'w').close()\n",
    "    \n",
    "    \n",
    "    \n",
    "def export_data():\n",
    "    file = open(\"exports/data/result.csv\", \"a\")\n",
    "    print(len(constraints_opt))\n",
    "    print(setup_opt)\n",
    "    for i, val in enumerate(compile_opt):\n",
    "        file.write(\n",
    "            files[i] + \", \" +\n",
    "            str(val) + \", \" + \n",
    "            str(mem_usg[i]) + \", \" + \n",
    "            str(setup_opt[i]) + \", \" +\n",
    "            str(mem_usg[(4 * i) + 1]) + \", \" + \n",
    "            str(witness_opt[i]) + \", \" + \n",
    "            str(mem_usg[(4 * i) + 2]) + \", \" + \n",
    "            str(proof_opt[i]) + \", \" + \n",
    "            str(mem_usg[(4 * i) + 3]) + \", \" + \n",
    "            constraints_opt[i] + \"\\n\"\n",
    "        )\n",
    "    file.close()\n",
    "    \n",
    "def write_backup():\n",
    "    file = open(\"exports/data/back_results.csv\", \"a\")\n",
    "    print(len(constraints_opt))\n",
    "    index = len(constraints_opt) - 1\n",
    "    file.write(\n",
    "        files[i] + \", \" +\n",
    "        str(compile_opt[-1]) + \", \" + \n",
    "        str(mem_usg[-1]) + \", \" + \n",
    "        str(setup_opt[-1]) + \", \" +\n",
    "        str(mem_usg[(4 * index) + 1]) + \", \" + \n",
    "        str(witness_opt[index]) + \", \" + \n",
    "        str(mem_usg[(4 * index) + 2]) + \", \" + \n",
    "        str(proof_opt[index]) + \", \" + \n",
    "        str(mem_usg[(4 * index) + 3]) + \", \" + \n",
    "        str(constraints_opt[len(constraints_opt) - 1]) + \"\\n\"\n",
    "    )\n",
    "    file.close()\n",
    "    \n",
    "reset_files()  \n",
    "for file in sorted(os.listdir('./files')):\n",
    "    if file.endswith(\".zok\"):\n",
    "        print(file)\n",
    "        started = datetime.datetime.now() \n",
    "        print(\"Started Optimized: \" + started.strftime(\"%H:%M:%S\") + \"\\n\")\n",
    "        print(\"Compiling: \", end =\" \")\n",
    "        compile_file(file, False)\n",
    "        print(\"Setup: \", end =\" \")\n",
    "        setup(False)\n",
    "        print(\"Witness: \", end =\" \")\n",
    "        witness(file, False)\n",
    "        print(\"Proof: \", end =\" \")\n",
    "        proof(False)\n",
    "        print(\"\\nRan: \" + str(datetime.datetime.now() - started))\n",
    "        count_constraints(False)\n",
    "#         write_backup()\n",
    "#         time.sleep(10)\n",
    "        print(\"_________________________________________________\\n\")\n",
    "\n",
    "    else:\n",
    "        continue\n",
    "    \n",
    "    files.append(file.split('.')[0])\n",
    "\n",
    "export_data()"
   ]
  },
  {
   "cell_type": "code",
   "execution_count": null,
   "metadata": {},
   "outputs": [],
   "source": []
  },
  {
   "cell_type": "code",
   "execution_count": 22,
   "metadata": {
    "scrolled": true
   },
   "outputs": [
    {
     "name": "stdout",
     "output_type": "stream",
     "text": [
      "| file |  compile_opt_sec |  memusg_compile_KiB |  setup_opt_sec |  memusg_setup_KiB |  witness_opt_sec |  memusg_witness_KiB |  proof_opt_sec |  memusg_proof_KiB |  constr_opt |\n",
      "| ---- | ---------------- | ------------------- | -------------- | ----------------- | ---------------- | ------------------- | -------------- | ----------------- | ----------- |\n",
      "| 1_4  |  6               |  122504             |  4             |  70092            |  1               |  46084              |  2             |  137520           |  5281       |\n",
      "| 2_4  |  15              |  70092              |  9             |  233868           |  5               |  163296             |  5             |  490420           |  10561      |\n",
      "\n"
     ]
    }
   ],
   "source": [
    "!csv2md exports/data/result.csv > exports/data/table.md\n",
    "\n",
    "with open(\"exports/data/table.md\") as f:\n",
    "    print(f.read())"
   ]
  },
  {
   "cell_type": "markdown",
   "metadata": {},
   "source": [
    "#### Compilation and Setup Diagram:\n"
   ]
  },
  {
   "cell_type": "code",
   "execution_count": 22,
   "metadata": {},
   "outputs": [
    {
     "ename": "ZeroDivisionError",
     "evalue": "division by zero",
     "output_type": "error",
     "traceback": [
      "\u001b[0;31m---------------------------------------------------------------------------\u001b[0m",
      "\u001b[0;31mZeroDivisionError\u001b[0m                         Traceback (most recent call last)",
      "\u001b[0;32m<ipython-input-22-9641968ead69>\u001b[0m in \u001b[0;36m<module>\u001b[0;34m\u001b[0m\n\u001b[1;32m     10\u001b[0m \u001b[0max\u001b[0m\u001b[0;34m.\u001b[0m\u001b[0mset_xticklabels\u001b[0m\u001b[0;34m(\u001b[0m\u001b[0mconstraints_opt\u001b[0m\u001b[0;34m)\u001b[0m\u001b[0;34m\u001b[0m\u001b[0;34m\u001b[0m\u001b[0m\n\u001b[1;32m     11\u001b[0m \u001b[0max\u001b[0m\u001b[0;34m.\u001b[0m\u001b[0mlegend\u001b[0m\u001b[0;34m(\u001b[0m\u001b[0;34m)\u001b[0m\u001b[0;34m\u001b[0m\u001b[0;34m\u001b[0m\u001b[0m\n\u001b[0;32m---> 12\u001b[0;31m \u001b[0max\u001b[0m\u001b[0;34m.\u001b[0m\u001b[0msemilogy\u001b[0m\u001b[0;34m(\u001b[0m\u001b[0mnp\u001b[0m\u001b[0;34m.\u001b[0m\u001b[0mexp\u001b[0m\u001b[0;34m(\u001b[0m\u001b[0;36m0\u001b[0m \u001b[0;34m/\u001b[0m \u001b[0mmax\u001b[0m\u001b[0;34m(\u001b[0m\u001b[0msetup_opt\u001b[0m\u001b[0;34m)\u001b[0m\u001b[0;34m)\u001b[0m\u001b[0;34m)\u001b[0m\u001b[0;34m\u001b[0m\u001b[0;34m\u001b[0m\u001b[0m\n\u001b[0m\u001b[1;32m     13\u001b[0m \u001b[0max\u001b[0m\u001b[0;34m.\u001b[0m\u001b[0mset_ylim\u001b[0m\u001b[0;34m(\u001b[0m\u001b[0mymin\u001b[0m\u001b[0;34m=\u001b[0m\u001b[0;36m1\u001b[0m\u001b[0;34m)\u001b[0m\u001b[0;34m\u001b[0m\u001b[0;34m\u001b[0m\u001b[0m\n\u001b[1;32m     14\u001b[0m \u001b[0mfig\u001b[0m\u001b[0;34m.\u001b[0m\u001b[0mtight_layout\u001b[0m\u001b[0;34m(\u001b[0m\u001b[0;34m)\u001b[0m\u001b[0;34m\u001b[0m\u001b[0;34m\u001b[0m\u001b[0m\n",
      "\u001b[0;31mZeroDivisionError\u001b[0m: division by zero"
     ]
    },
    {
     "data": {
      "image/png": "[encoded data removed]",
      "text/plain": [
       "<Figure size 432x288 with 1 Axes>"
      ]
     },
     "metadata": {
      "needs_background": "light"
     },
     "output_type": "display_data"
    }
   ],
   "source": [
    "x = np.arange(len(constraints_opt))  # the label locations\n",
    "width = 0.15  # the width of the bars\n",
    "\n",
    "fig, ax = plt.subplots()\n",
    "rects1 = ax.bar(x - width/2, compile_opt, width, label='Compile', edgecolor='#005eb8', color='#7faedb')\n",
    "rects2 = ax.bar(x + width/2, setup_opt, width, label='Setup', edgecolor='#ff4c4c', color='#ffa5a5')\n",
    "ax.set_ylabel('t in s')\n",
    "ax.set_xticks(x)\n",
    "ax.set_xlabel('# of Constraints')\n",
    "ax.set_xticklabels(constraints_opt)\n",
    "ax.legend()\n",
    "ax.semilogy(np.exp(0 / max(setup_opt)))\n",
    "ax.set_ylim(ymin=1)\n",
    "fig.tight_layout()\n",
    "plt.rcParams['axes.grid'] = True\n",
    "plt.rcParams['grid.color'] = \"#cccccc\"\n",
    "plt.savefig('exports/compile-setup.png')\n",
    "plt.show()"
   ]
  },
  {
   "cell_type": "markdown",
   "metadata": {},
   "source": [
    "#### Witness and Proof Diagram:"
   ]
  },
  {
   "cell_type": "code",
   "execution_count": 23,
   "metadata": {},
   "outputs": [
    {
     "name": "stdout",
     "output_type": "stream",
     "text": [
      "[0, 0]\n"
     ]
    },
    {
     "ename": "ZeroDivisionError",
     "evalue": "division by zero",
     "output_type": "error",
     "traceback": [
      "\u001b[0;31m---------------------------------------------------------------------------\u001b[0m",
      "\u001b[0;31mZeroDivisionError\u001b[0m                         Traceback (most recent call last)",
      "\u001b[0;32m<ipython-input-23-74134cb66428>\u001b[0m in \u001b[0;36m<module>\u001b[0;34m\u001b[0m\n\u001b[1;32m     10\u001b[0m \u001b[0max\u001b[0m\u001b[0;34m.\u001b[0m\u001b[0mset_xticklabels\u001b[0m\u001b[0;34m(\u001b[0m\u001b[0mconstraints_opt\u001b[0m\u001b[0;34m)\u001b[0m\u001b[0;34m\u001b[0m\u001b[0;34m\u001b[0m\u001b[0m\n\u001b[1;32m     11\u001b[0m \u001b[0max\u001b[0m\u001b[0;34m.\u001b[0m\u001b[0mlegend\u001b[0m\u001b[0;34m(\u001b[0m\u001b[0;34m)\u001b[0m\u001b[0;34m\u001b[0m\u001b[0;34m\u001b[0m\u001b[0m\n\u001b[0;32m---> 12\u001b[0;31m \u001b[0max\u001b[0m\u001b[0;34m.\u001b[0m\u001b[0msemilogy\u001b[0m\u001b[0;34m(\u001b[0m\u001b[0mnp\u001b[0m\u001b[0;34m.\u001b[0m\u001b[0mexp\u001b[0m\u001b[0;34m(\u001b[0m\u001b[0;36m0\u001b[0m \u001b[0;34m/\u001b[0m \u001b[0mmax\u001b[0m\u001b[0;34m(\u001b[0m\u001b[0msetup_opt\u001b[0m\u001b[0;34m)\u001b[0m\u001b[0;34m)\u001b[0m\u001b[0;34m)\u001b[0m\u001b[0;34m\u001b[0m\u001b[0;34m\u001b[0m\u001b[0m\n\u001b[0m\u001b[1;32m     13\u001b[0m \u001b[0max\u001b[0m\u001b[0;34m.\u001b[0m\u001b[0mset_ylim\u001b[0m\u001b[0;34m(\u001b[0m\u001b[0mymin\u001b[0m\u001b[0;34m=\u001b[0m\u001b[0;36m0\u001b[0m\u001b[0;34m)\u001b[0m\u001b[0;34m\u001b[0m\u001b[0;34m\u001b[0m\u001b[0m\n\u001b[1;32m     14\u001b[0m \u001b[0mfig\u001b[0m\u001b[0;34m.\u001b[0m\u001b[0mtight_layout\u001b[0m\u001b[0;34m(\u001b[0m\u001b[0;34m)\u001b[0m\u001b[0;34m\u001b[0m\u001b[0;34m\u001b[0m\u001b[0m\n",
      "\u001b[0;31mZeroDivisionError\u001b[0m: division by zero"
     ]
    },
    {
     "data": {
      "image/png": "[encoded data removed]",
      "text/plain": [
       "<Figure size 432x288 with 1 Axes>"
      ]
     },
     "metadata": {
      "needs_background": "light"
     },
     "output_type": "display_data"
    }
   ],
   "source": [
    "x = np.arange(len(constraints_opt))  # the label locations\n",
    "width = 0.15  # the width of the bars\n",
    "print(witness_opt)\n",
    "fig, ax = plt.subplots()\n",
    "rects1 = ax.bar(x - width/2, witness_opt, width, label='Witness', edgecolor='#005eb8', color='#7faedb')\n",
    "rects2 = ax.bar(x + width/2, proof_opt, width, label='Proof', edgecolor='#ff4c4c', color='#ffa5a5')\n",
    "ax.set_ylabel('t in s')\n",
    "ax.set_xticks(x)\n",
    "ax.set_xlabel('# of Constraints')\n",
    "ax.set_xticklabels(constraints_opt)\n",
    "ax.legend()\n",
    "ax.semilogy(np.exp(0 / max(setup_opt)))\n",
    "ax.set_ylim(ymin=0)\n",
    "fig.tight_layout()\n",
    "plt.rcParams['axes.grid'] = True\n",
    "plt.rcParams['grid.color'] = \"#cccccc\"\n",
    "plt.savefig('exports/witness-proof.png')\n",
    "plt.show()"
   ]
  },
  {
   "cell_type": "code",
   "execution_count": null,
   "metadata": {},
   "outputs": [],
   "source": []
  },
  {
   "cell_type": "code",
   "execution_count": null,
   "metadata": {},
   "outputs": [],
   "source": []
  }
 ],
 "metadata": {
  "kernelspec": {
   "display_name": "Python 3",
   "language": "python",
   "name": "python3"
  },
  "language_info": {
   "codemirror_mode": {
    "name": "ipython",
    "version": 3
   },
   "file_extension": ".py",
   "mimetype": "text/x-python",
   "name": "python",
   "nbconvert_exporter": "python",
   "pygments_lexer": "ipython3",
   "version": "3.7.3"
  }
 },
 "nbformat": 4,
 "nbformat_minor": 4
}
